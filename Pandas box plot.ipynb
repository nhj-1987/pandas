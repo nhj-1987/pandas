{
 "cells": [
  {
   "cell_type": "code",
   "execution_count": 3,
   "metadata": {},
   "outputs": [],
   "source": [
    "import pandas as pd\n",
    "import numpy as np\n",
    "import matplotlib.pyplot as plt\n",
    "import matplotlib as mpl\n",
    "\n",
    "%matplotlib inline\n",
    "\n",
    "mpl.rcParams['axes.unicode_minus'] = False"
   ]
  },
  {
   "cell_type": "code",
   "execution_count": 4,
   "metadata": {},
   "outputs": [],
   "source": [
    " df = pd.DataFrame(np.random.rand(10, 5), columns=[\"A\", \"B\", \"C\", \"D\", \"E\"])"
   ]
  },
  {
   "cell_type": "code",
   "execution_count": 7,
   "metadata": {},
   "outputs": [
    {
     "data": {
      "text/html": [
       "<div>\n",
       "<style scoped>\n",
       "    .dataframe tbody tr th:only-of-type {\n",
       "        vertical-align: middle;\n",
       "    }\n",
       "\n",
       "    .dataframe tbody tr th {\n",
       "        vertical-align: top;\n",
       "    }\n",
       "\n",
       "    .dataframe thead th {\n",
       "        text-align: right;\n",
       "    }\n",
       "</style>\n",
       "<table border=\"1\" class=\"dataframe\">\n",
       "  <thead>\n",
       "    <tr style=\"text-align: right;\">\n",
       "      <th></th>\n",
       "      <th>A</th>\n",
       "      <th>B</th>\n",
       "      <th>C</th>\n",
       "      <th>D</th>\n",
       "      <th>E</th>\n",
       "    </tr>\n",
       "  </thead>\n",
       "  <tbody>\n",
       "    <tr>\n",
       "      <th>count</th>\n",
       "      <td>10.000000</td>\n",
       "      <td>10.000000</td>\n",
       "      <td>10.000000</td>\n",
       "      <td>10.000000</td>\n",
       "      <td>10.000000</td>\n",
       "    </tr>\n",
       "    <tr>\n",
       "      <th>mean</th>\n",
       "      <td>0.493242</td>\n",
       "      <td>0.575443</td>\n",
       "      <td>0.462055</td>\n",
       "      <td>0.652385</td>\n",
       "      <td>0.532082</td>\n",
       "    </tr>\n",
       "    <tr>\n",
       "      <th>std</th>\n",
       "      <td>0.244504</td>\n",
       "      <td>0.354199</td>\n",
       "      <td>0.294762</td>\n",
       "      <td>0.271953</td>\n",
       "      <td>0.311690</td>\n",
       "    </tr>\n",
       "    <tr>\n",
       "      <th>min</th>\n",
       "      <td>0.128360</td>\n",
       "      <td>0.092576</td>\n",
       "      <td>0.095033</td>\n",
       "      <td>0.120185</td>\n",
       "      <td>0.035822</td>\n",
       "    </tr>\n",
       "    <tr>\n",
       "      <th>25%</th>\n",
       "      <td>0.271661</td>\n",
       "      <td>0.223938</td>\n",
       "      <td>0.267723</td>\n",
       "      <td>0.547174</td>\n",
       "      <td>0.266204</td>\n",
       "    </tr>\n",
       "    <tr>\n",
       "      <th>50%</th>\n",
       "      <td>0.598337</td>\n",
       "      <td>0.646940</td>\n",
       "      <td>0.389202</td>\n",
       "      <td>0.729335</td>\n",
       "      <td>0.632881</td>\n",
       "    </tr>\n",
       "    <tr>\n",
       "      <th>75%</th>\n",
       "      <td>0.663272</td>\n",
       "      <td>0.860971</td>\n",
       "      <td>0.760879</td>\n",
       "      <td>0.788615</td>\n",
       "      <td>0.805166</td>\n",
       "    </tr>\n",
       "    <tr>\n",
       "      <th>max</th>\n",
       "      <td>0.767464</td>\n",
       "      <td>0.997514</td>\n",
       "      <td>0.851828</td>\n",
       "      <td>0.992908</td>\n",
       "      <td>0.884439</td>\n",
       "    </tr>\n",
       "  </tbody>\n",
       "</table>\n",
       "</div>"
      ],
      "text/plain": [
       "               A          B          C          D          E\n",
       "count  10.000000  10.000000  10.000000  10.000000  10.000000\n",
       "mean    0.493242   0.575443   0.462055   0.652385   0.532082\n",
       "std     0.244504   0.354199   0.294762   0.271953   0.311690\n",
       "min     0.128360   0.092576   0.095033   0.120185   0.035822\n",
       "25%     0.271661   0.223938   0.267723   0.547174   0.266204\n",
       "50%     0.598337   0.646940   0.389202   0.729335   0.632881\n",
       "75%     0.663272   0.860971   0.760879   0.788615   0.805166\n",
       "max     0.767464   0.997514   0.851828   0.992908   0.884439"
      ]
     },
     "execution_count": 7,
     "metadata": {},
     "output_type": "execute_result"
    }
   ],
   "source": [
    "df.describe()"
   ]
  },
  {
   "cell_type": "code",
   "execution_count": 8,
   "metadata": {},
   "outputs": [
    {
     "data": {
      "image/png": "[encoded data removed]",
      "text/plain": [
       "<Figure size 432x288 with 1 Axes>"
      ]
     },
     "metadata": {},
     "output_type": "display_data"
    }
   ],
   "source": [
    "df.plot.box(); #박스 plot , 최대값, 최소값, 이상치 5가지 확인 가능"
   ]
  },
  {
   "cell_type": "code",
   "execution_count": 9,
   "metadata": {},
   "outputs": [],
   "source": [
    "color = {\n",
    "        \"boxes\": \"DarkGreen\",\n",
    "        \"whiskers\": \"DarkOrange\",\n",
    "       \"medians\": \"DarkBlue\",\n",
    "        \"caps\": \"Gray\",\n",
    "   }"
   ]
  },
  {
   "cell_type": "code",
   "execution_count": 10,
   "metadata": {},
   "outputs": [
    {
     "data": {
      "image/png": "[encoded data removed]",
      "text/plain": [
       "<Figure size 432x288 with 1 Axes>"
      ]
     },
     "metadata": {},
     "output_type": "display_data"
    }
   ],
   "source": [
    "df.plot.box(color=color, sym=\"r+\");"
   ]
  },
  {
   "cell_type": "code",
   "execution_count": 11,
   "metadata": {},
   "outputs": [
    {
     "data": {
      "image/png": "[encoded data removed]",
      "text/plain": [
       "<Figure size 432x288 with 1 Axes>"
      ]
     },
     "metadata": {},
     "output_type": "display_data"
    }
   ],
   "source": [
    "df.plot.box(vert=False, positions=[1, 4, 5, 6, 8]);\n"
   ]
  },
  {
   "cell_type": "code",
   "execution_count": 14,
   "metadata": {},
   "outputs": [
    {
     "data": {
      "text/html": [
       "<div>\n",
       "<style scoped>\n",
       "    .dataframe tbody tr th:only-of-type {\n",
       "        vertical-align: middle;\n",
       "    }\n",
       "\n",
       "    .dataframe tbody tr th {\n",
       "        vertical-align: top;\n",
       "    }\n",
       "\n",
       "    .dataframe thead th {\n",
       "        text-align: right;\n",
       "    }\n",
       "</style>\n",
       "<table border=\"1\" class=\"dataframe\">\n",
       "  <thead>\n",
       "    <tr style=\"text-align: right;\">\n",
       "      <th></th>\n",
       "      <th>0</th>\n",
       "      <th>1</th>\n",
       "      <th>2</th>\n",
       "      <th>3</th>\n",
       "      <th>4</th>\n",
       "    </tr>\n",
       "  </thead>\n",
       "  <tbody>\n",
       "    <tr>\n",
       "      <th>0</th>\n",
       "      <td>0.533903</td>\n",
       "      <td>0.051115</td>\n",
       "      <td>0.137613</td>\n",
       "      <td>0.265066</td>\n",
       "      <td>0.304590</td>\n",
       "    </tr>\n",
       "    <tr>\n",
       "      <th>1</th>\n",
       "      <td>0.732655</td>\n",
       "      <td>0.719595</td>\n",
       "      <td>0.360464</td>\n",
       "      <td>0.324511</td>\n",
       "      <td>0.320063</td>\n",
       "    </tr>\n",
       "    <tr>\n",
       "      <th>2</th>\n",
       "      <td>0.403467</td>\n",
       "      <td>0.341107</td>\n",
       "      <td>0.709016</td>\n",
       "      <td>0.928923</td>\n",
       "      <td>0.558629</td>\n",
       "    </tr>\n",
       "    <tr>\n",
       "      <th>3</th>\n",
       "      <td>0.049438</td>\n",
       "      <td>0.695456</td>\n",
       "      <td>0.045214</td>\n",
       "      <td>0.215571</td>\n",
       "      <td>0.867099</td>\n",
       "    </tr>\n",
       "    <tr>\n",
       "      <th>4</th>\n",
       "      <td>0.943155</td>\n",
       "      <td>0.477430</td>\n",
       "      <td>0.553537</td>\n",
       "      <td>0.389990</td>\n",
       "      <td>0.383290</td>\n",
       "    </tr>\n",
       "    <tr>\n",
       "      <th>5</th>\n",
       "      <td>0.471709</td>\n",
       "      <td>0.162330</td>\n",
       "      <td>0.357705</td>\n",
       "      <td>0.695167</td>\n",
       "      <td>0.292878</td>\n",
       "    </tr>\n",
       "    <tr>\n",
       "      <th>6</th>\n",
       "      <td>0.526813</td>\n",
       "      <td>0.859035</td>\n",
       "      <td>0.567469</td>\n",
       "      <td>0.180299</td>\n",
       "      <td>0.859874</td>\n",
       "    </tr>\n",
       "    <tr>\n",
       "      <th>7</th>\n",
       "      <td>0.096699</td>\n",
       "      <td>0.618726</td>\n",
       "      <td>0.016840</td>\n",
       "      <td>0.685002</td>\n",
       "      <td>0.863286</td>\n",
       "    </tr>\n",
       "    <tr>\n",
       "      <th>8</th>\n",
       "      <td>0.272098</td>\n",
       "      <td>0.644276</td>\n",
       "      <td>0.564197</td>\n",
       "      <td>0.689672</td>\n",
       "      <td>0.208258</td>\n",
       "    </tr>\n",
       "    <tr>\n",
       "      <th>9</th>\n",
       "      <td>0.450626</td>\n",
       "      <td>0.165635</td>\n",
       "      <td>0.871402</td>\n",
       "      <td>0.299036</td>\n",
       "      <td>0.383699</td>\n",
       "    </tr>\n",
       "  </tbody>\n",
       "</table>\n",
       "</div>"
      ],
      "text/plain": [
       "          0         1         2         3         4\n",
       "0  0.533903  0.051115  0.137613  0.265066  0.304590\n",
       "1  0.732655  0.719595  0.360464  0.324511  0.320063\n",
       "2  0.403467  0.341107  0.709016  0.928923  0.558629\n",
       "3  0.049438  0.695456  0.045214  0.215571  0.867099\n",
       "4  0.943155  0.477430  0.553537  0.389990  0.383290\n",
       "5  0.471709  0.162330  0.357705  0.695167  0.292878\n",
       "6  0.526813  0.859035  0.567469  0.180299  0.859874\n",
       "7  0.096699  0.618726  0.016840  0.685002  0.863286\n",
       "8  0.272098  0.644276  0.564197  0.689672  0.208258\n",
       "9  0.450626  0.165635  0.871402  0.299036  0.383699"
      ]
     },
     "execution_count": 14,
     "metadata": {},
     "output_type": "execute_result"
    }
   ],
   "source": [
    "df = pd.DataFrame(np.random.rand(10, 5))\n",
    "df"
   ]
  },
  {
   "cell_type": "code",
   "execution_count": 17,
   "metadata": {},
   "outputs": [
    {
     "data": {
      "image/png": "[encoded data removed]",
      "text/plain": [
       "<Figure size 432x288 with 1 Axes>"
      ]
     },
     "metadata": {},
     "output_type": "display_data"
    }
   ],
   "source": [
    "plt.figure();\n",
    "bp = df.boxplot()\n"
   ]
  },
  {
   "cell_type": "code",
   "execution_count": 18,
   "metadata": {},
   "outputs": [
    {
     "data": {
      "text/plain": [
       "<Figure size 432x288 with 0 Axes>"
      ]
     },
     "metadata": {},
     "output_type": "display_data"
    },
    {
     "data": {
      "image/png": "[encoded data removed]",
      "text/plain": [
       "<Figure size 432x288 with 2 Axes>"
      ]
     },
     "metadata": {},
     "output_type": "display_data"
    }
   ],
   "source": [
    "df = pd.DataFrame(np.random.rand(10, 2), columns=[\"Col1\", \"Col2\"])\n",
    "df[\"X\"] = pd.Series([\"A\", \"A\", \"A\", \"A\", \"A\", \"B\", \"B\", \"B\", \"B\", \"B\"])\n",
    "plt.figure();\n",
    "bp = df.boxplot(by=\"X\")"
   ]
  },
  {
   "cell_type": "code",
   "execution_count": 22,
   "metadata": {},
   "outputs": [
    {
     "data": {
      "image/png": "[encoded data removed]",
      "text/plain": [
       "<Figure size 432x288 with 2 Axes>"
      ]
     },
     "metadata": {},
     "output_type": "display_data"
    }
   ],
   "source": [
    "np.random.seed(1234)\n",
    "df_box = pd.DataFrame(np.random.randn(50, 2))\n",
    "df_box[\"g\"] = np.random.choice([\"A\", \"B\"], size=50)\n",
    "df_box.loc[df_box[\"g\"] == \"B\", 1] += 3\n",
    "bp = df_box.boxplot(by=\"g\")"
   ]
  },
  {
   "cell_type": "code",
   "execution_count": null,
   "metadata": {},
   "outputs": [],
   "source": []
  }
 ],
 "metadata": {
  "kernelspec": {
   "display_name": "Python 3",
   "language": "python",
   "name": "python3"
  },
  "language_info": {
   "codemirror_mode": {
    "name": "ipython",
    "version": 3
   },
   "file_extension": ".py",
   "mimetype": "text/x-python",
   "name": "python",
   "nbconvert_exporter": "python",
   "pygments_lexer": "ipython3",
   "version": "3.6.5"
  }
 },
 "nbformat": 4,
 "nbformat_minor": 2
}
